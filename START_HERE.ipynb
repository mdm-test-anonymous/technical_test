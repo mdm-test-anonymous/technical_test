{
 "cells": [
  {
   "cell_type": "markdown",
   "metadata": {},
   "source": [
    "# Mise en place et évaluation d’un modèle"
   ]
  },
  {
   "cell_type": "markdown",
   "metadata": {},
   "source": [
    "L’ordre n’a pas d’importance, ce n’est pas grave non plus de ne pas finir toutes les parties\n"
   ]
  },
  {
   "cell_type": "markdown",
   "metadata": {},
   "source": [
    "##  <u>1ère Partie :</u> Prédiction de la position d’une ville à partir de données météo"
   ]
  },
  {
   "cell_type": "markdown",
   "metadata": {},
   "source": [
    "L’objectif de cet exercice est d’essayer de prédire si une ville se trouve au-dessus ou en dessous du 60ème parallèle en fonction des relevés de température et de précipitation en hiver 2015 et 2016.<br/><br/>\n",
    "Pour cela charger le fichier data\\data_ex_1.csv<br/><br/>\n",
    "Les trois questions devront être traitées par un modèle génératif et par un modèle discriminant.\n"
   ]
  },
  {
   "cell_type": "markdown",
   "metadata": {},
   "source": [
    "### a.\tFaire une première version des modèles permettant de classer les villes en prenant toutes les données."
   ]
  },
  {
   "cell_type": "markdown",
   "metadata": {},
   "source": [
    "Afficher le taux d’erreur"
   ]
  },
  {
   "cell_type": "code",
   "execution_count": null,
   "metadata": {
    "collapsed": true,
    "jupyter": {
     "outputs_hidden": true
    }
   },
   "outputs": [],
   "source": []
  },
  {
   "cell_type": "markdown",
   "metadata": {},
   "source": [
    "### b.\tEssayer d’améliorer les modèles en identifiant les variables non pertinentes"
   ]
  },
  {
   "cell_type": "markdown",
   "metadata": {},
   "source": [
    "Afficher le taux de bonne prédiction"
   ]
  },
  {
   "cell_type": "code",
   "execution_count": null,
   "metadata": {
    "collapsed": true,
    "jupyter": {
     "outputs_hidden": true
    }
   },
   "outputs": [],
   "source": []
  },
  {
   "cell_type": "markdown",
   "metadata": {},
   "source": [
    "### c.\tEssayer d’améliorer les nouveaux modèles en identifiant les valeurs aberrantes"
   ]
  },
  {
   "cell_type": "code",
   "execution_count": null,
   "metadata": {
    "collapsed": true,
    "jupyter": {
     "outputs_hidden": true
    }
   },
   "outputs": [],
   "source": []
  },
  {
   "cell_type": "markdown",
   "metadata": {},
   "source": [
    "##  <u>2ème Partie :</u> Prédiction du type d’immeuble (haut ou bas) en fonction des coordonnées géographiques et de l’altitude "
   ]
  },
  {
   "cell_type": "markdown",
   "metadata": {},
   "source": [
    "L’objectif de cet exercice est d’essayer de prédire si un immeuble est de grande hauteur ou pas en fonction des coordonnées de type GPS (l’unité n’est pas connue). Quand les données ne sont pas connues elles ont été renseignées à 0.<br/><br/>\n",
    "Pour cela utiliser le fichier : data\\data_ex_2.csv<br/><br/>\n",
    "La partie 2 doit être réalisée en utilisant 2 approches différentes de modélisations.\n"
   ]
  },
  {
   "cell_type": "markdown",
   "metadata": {},
   "source": [
    "### a.\tEssayer d’obtenir le meilleur modèle en minimisant le taux d’erreur pour chacun des deux algorithmes en jouant sur les données."
   ]
  },
  {
   "cell_type": "code",
   "execution_count": null,
   "metadata": {
    "collapsed": true,
    "jupyter": {
     "outputs_hidden": true
    }
   },
   "outputs": [],
   "source": []
  },
  {
   "cell_type": "markdown",
   "metadata": {},
   "source": [
    "### b.\tEssayer d’améliorer ces modèles en optimisant leurs paramètres."
   ]
  },
  {
   "cell_type": "code",
   "execution_count": null,
   "metadata": {
    "collapsed": true,
    "jupyter": {
     "outputs_hidden": true
    }
   },
   "outputs": [],
   "source": []
  },
  {
   "cell_type": "markdown",
   "metadata": {},
   "source": [
    "### c.\tCe qui nous intéresse c’est de ne jamais nous tromper quand on prédit qu’un immeuble est haut. Quel est le meilleur modèle ?"
   ]
  },
  {
   "cell_type": "code",
   "execution_count": null,
   "metadata": {
    "tags": []
   },
   "outputs": [],
   "source": []
  },
  {
   "cell_type": "markdown",
   "metadata": {},
   "source": [
    "##  <u>3ème partie :</u> SQL"
   ]
  },
  {
   "cell_type": "markdown",
   "metadata": {},
   "source": [
    "3ème partie : SQL\n",
    "L’objectif de cet exercice est de manipuler des sources de données entièrement en SQL\n",
    "\n",
    "Merci de bien vouloir ouvrir le notebook 'SQL_test'"
   ]
  }
 ],
 "metadata": {
  "kernelspec": {
   "display_name": "Python 3 (ipykernel)",
   "language": "python",
   "name": "python3"
  },
  "language_info": {
   "codemirror_mode": {
    "name": "ipython",
    "version": 3
   },
   "file_extension": ".py",
   "mimetype": "text/x-python",
   "name": "python",
   "nbconvert_exporter": "python",
   "pygments_lexer": "ipython3",
   "version": "3.7.12"
  }
 },
 "nbformat": 4,
 "nbformat_minor": 4
}
