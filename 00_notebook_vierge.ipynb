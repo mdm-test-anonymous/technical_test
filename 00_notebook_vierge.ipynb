{
 "cells": [
  {
   "cell_type": "markdown",
   "metadata": {},
   "source": [
    "# Mise en place et évaluation d’un modèle"
   ]
  },
  {
   "cell_type": "markdown",
   "metadata": {},
   "source": [
    "<font color=red>L’ordre n’a pas d’importance, ce n’est pas grave non plus de ne pas finir toutes les parties.</font>\n"
   ]
  },
  {
   "cell_type": "markdown",
   "metadata": {},
   "source": [
    "##  <u>1ère Partie :</u> Prédiction de la position d’une ville à partir de données météo"
   ]
  },
  {
   "cell_type": "markdown",
   "metadata": {},
   "source": [
    "L’objectif de cet exercice est d’essayer de prédire si une ville se trouve au-dessus ou en dessous du 60ème parallèle en fonction des relevés de température et de précipitation en hiver 2015 et 2016.<br/><br/>\n",
    "Pour cela charger le fichier data\\data_ex_1.csv<br/><br/>\n",
    "Les trois questions devront être traitées par un modèle génératif et par un modèle discriminant.\n"
   ]
  },
  {
   "cell_type": "markdown",
   "metadata": {},
   "source": [
    "### a.\tFaire une première version des modèles permettant de classer les villes en prenant toutes les données."
   ]
  },
  {
   "cell_type": "markdown",
   "metadata": {},
   "source": [
    "Afficher le taux d’erreur"
   ]
  },
  {
   "cell_type": "code",
   "execution_count": null,
   "metadata": {
    "collapsed": true
   },
   "outputs": [],
   "source": []
  },
  {
   "cell_type": "markdown",
   "metadata": {},
   "source": [
    "### b.\tEssayer d’améliorer les modèles en identifiant les variables non pertinentes"
   ]
  },
  {
   "cell_type": "markdown",
   "metadata": {},
   "source": [
    "Afficher le taux de bonne prédiction"
   ]
  },
  {
   "cell_type": "code",
   "execution_count": null,
   "metadata": {
    "collapsed": true
   },
   "outputs": [],
   "source": []
  },
  {
   "cell_type": "markdown",
   "metadata": {},
   "source": [
    "### c.\tEssayer d’améliorer les nouveaux modèles en identifiant les valeurs aberrantes"
   ]
  },
  {
   "cell_type": "code",
   "execution_count": null,
   "metadata": {
    "collapsed": true
   },
   "outputs": [],
   "source": []
  },
  {
   "cell_type": "markdown",
   "metadata": {},
   "source": [
    "##  <u>2ème Partie :</u> Prédiction du type d’immeuble (haut ou bas) en fonction des coordonnées géographiques et de l’altitude "
   ]
  },
  {
   "cell_type": "markdown",
   "metadata": {},
   "source": [
    "L’objectif de cet exercice est d’essayer de prédire si un immeuble est de grande hauteur ou pas en fonction des coordonnées de type GPS (l’unité n’est pas connue). Quand les données ne sont pas connues elles ont été renseignées à 0.<br/><br/>\n",
    "Pour cela utiliser le fichier : data\\data_ex_2.csv<br/><br/>\n",
    "La partie 2 doit être réalisée en utilisant 2 approches différentes de modélisations.\n"
   ]
  },
  {
   "cell_type": "markdown",
   "metadata": {},
   "source": [
    "### a.\tEssayer d’obtenir le meilleur modèle en minimisant le taux d’erreur pour chacun des deux algorithmes en jouant sur les données."
   ]
  },
  {
   "cell_type": "code",
   "execution_count": null,
   "metadata": {
    "collapsed": true
   },
   "outputs": [],
   "source": []
  },
  {
   "cell_type": "markdown",
   "metadata": {},
   "source": [
    "### b.\tEssayer d’améliorer ces modèles en optimisant leurs paramètres."
   ]
  },
  {
   "cell_type": "code",
   "execution_count": null,
   "metadata": {
    "collapsed": true
   },
   "outputs": [],
   "source": []
  },
  {
   "cell_type": "markdown",
   "metadata": {},
   "source": [
    "### c.\tCe qui nous intéresse c’est de ne jamais nous tromper quand on prédit qu’un immeuble est haut. Quel est le meilleur modèle ?"
   ]
  },
  {
   "cell_type": "code",
   "execution_count": null,
   "metadata": {
    "collapsed": true
   },
   "outputs": [],
   "source": []
  },
  {
   "cell_type": "markdown",
   "metadata": {},
   "source": [
    "##  <u>3ème partie :</u> SQL"
   ]
  },
  {
   "cell_type": "markdown",
   "metadata": {},
   "source": [
    "L’objectif de cet exercice est de Proposer une synthèse descriptive des données pour le fichier resultats-provisoires-par-canton.txt et resultats-provisoires-par-canton-light.txt (même répertoire)"
   ]
  },
  {
   "cell_type": "markdown",
   "metadata": {},
   "source": [
    "### a.\tExclure de la visualisation les données 'Code du département','Libellé du département','Code du canton','Libellé du canton' et tout celles qui commencent par 'N°Liste','Libellé Abrégé Liste' ,'Libellé Etendu Liste' ,'Nom Tête de Liste' ."
   ]
  },
  {
   "cell_type": "markdown",
   "metadata": {},
   "source": [
    "On pourra renommer les colonnes avec la fonction"
   ]
  },
  {
   "cell_type": "code",
   "execution_count": 2,
   "metadata": {
    "collapsed": true
   },
   "outputs": [],
   "source": [
    "import re\n",
    "import unicodedata\n",
    "def nettoie_text(text):\n",
    "    if (str(text)!='nan'):\n",
    "        text = text.strip()\n",
    "    else :\n",
    "        text = ''\n",
    "    text = text.lower()\n",
    "    text = text.replace(')', ' ')\n",
    "    text = text.replace('(', ' ')\n",
    "    text = text.replace(',', ' ')\n",
    "    text = text.replace('\\’', ' ')\n",
    "    text = text.replace('\\'', ' ')\n",
    "    text = text.replace(';', ' ')\n",
    "    text = text.replace('\\n', ' ')\n",
    "    text = text.replace('\\t', ' ')\n",
    "    text = text.replace('-', ' ')\n",
    "    text = text.replace('  ', ' ')\n",
    "    text = unicodedata.normalize('NFD', text).encode('ascii', 'ignore') \n",
    "    text = text.decode('utf-8')\n",
    "    text = re.sub('[^A-Z\\' a-z 0-9]+', ' ', text)\n",
    "    text = text.strip()\n",
    "    return text\n"
   ]
  },
  {
   "cell_type": "code",
   "execution_count": null,
   "metadata": {
    "collapsed": true
   },
   "outputs": [],
   "source": []
  },
  {
   "cell_type": "markdown",
   "metadata": {},
   "source": [
    "### b.\tAprès avoir conservé uniquement les données générales <font color=blue>( Inscrits, Abstentions, % Abs/Ins, Votants, % Vot/Ins, Blancs, % Blancs/Ins, % Blancs/Vot, Nuls, % Nuls/Ins, % Nuls/Vot, Exprimés, % Exp/Ins, % Exp/Vot)</font> et celles de LOISEAU Nathalie n°5 et de BARDELLA Jordan n°23 <font color=blue>(Voix ,% Voix/Ins ,% Voix/Exp x)</font>, proposer une réduction de dimension afin de visualiser en 2 dimensions les données, avec les points libellés par département."
   ]
  },
  {
   "cell_type": "markdown",
   "metadata": {},
   "source": [
    "(Si jamais le traitement a et b vous prenaient trop de temps, utiliser le fichier resultats-provisoires-par-canton-light.txt)<br/><br/>\n",
    "Essayer d’avoir quelque chose du genre :\n"
   ]
  },
  {
   "cell_type": "markdown",
   "metadata": {},
   "source": [
    "<img src=\"data/visulisation.png\" title=\"visulisation\" />"
   ]
  },
  {
   "cell_type": "code",
   "execution_count": null,
   "metadata": {
    "collapsed": true
   },
   "outputs": [],
   "source": []
  }
 ],
 "metadata": {
  "kernelspec": {
   "display_name": "Python 3",
   "language": "python",
   "name": "python3"
  },
  "language_info": {
   "codemirror_mode": {
    "name": "ipython",
    "version": 3
   },
   "file_extension": ".py",
   "mimetype": "text/x-python",
   "name": "python",
   "nbconvert_exporter": "python",
   "pygments_lexer": "ipython3",
   "version": "3.6.3"
  }
 },
 "nbformat": 4,
 "nbformat_minor": 2
}
